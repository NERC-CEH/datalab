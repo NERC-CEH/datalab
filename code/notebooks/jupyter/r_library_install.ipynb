{
 "cells": [
  {
   "cell_type": "markdown",
   "metadata": {},
   "source": [
    "## Remove example packages"
   ]
  },
  {
   "cell_type": "code",
   "execution_count": 1,
   "metadata": {},
   "outputs": [
    {
     "data": {
      "text/html": [
       "<ol>\n",
       "\t<li>'Package: fortunes, Path: /opt/R-libs/user, State: Not present'</li>\n",
       "\t<li>'Package: fortunes, Path: /data/packages/R/x86_64-redhat-linux-gnu/3.4, State: Not present'</li>\n",
       "</ol>\n"
      ],
      "text/latex": [
       "\\begin{enumerate}\n",
       "\\item 'Package: fortunes, Path: /opt/R-libs/user, State: Not present'\n",
       "\\item 'Package: fortunes, Path: /data/packages/R/x86\\_64-redhat-linux-gnu/3.4, State: Not present'\n",
       "\\end{enumerate}\n"
      ],
      "text/markdown": [
       "1. 'Package: fortunes, Path: /opt/R-libs/user, State: Not present'\n",
       "2. 'Package: fortunes, Path: /data/packages/R/x86_64-redhat-linux-gnu/3.4, State: Not present'\n",
       "\n",
       "\n"
      ],
      "text/plain": [
       "[[1]]\n",
       "[1] \"Package: fortunes, Path: /opt/R-libs/user, State: Not present\"\n",
       "\n",
       "[[2]]\n",
       "[1] \"Package: fortunes, Path: /data/packages/R/x86_64-redhat-linux-gnu/3.4, State: Not present\"\n"
      ]
     },
     "metadata": {},
     "output_type": "display_data"
    }
   ],
   "source": [
    "# Removes package ('fortune') from both container and shared libraries\n",
    "\n",
    "examplePackages <- list(\n",
    "    list(name='fortunes', path=Sys.getenv('R_LIBS_SITE_USER')),\n",
    "    list(name='fortunes', path=Sys.getenv('R_LIBS_USER')))\n",
    "\n",
    "clearPkg <- function(pkg) {\n",
    "    state <- 'Not present'\n",
    "    if(pkg$name %in% rownames(installed.packages(pkg$path))){\n",
    "         remove.packages(pkg$name, lib=pkg$path)\n",
    "        state <- 'Removed'\n",
    "    }\n",
    "    return(paste0('Package: ', pkg$name, ', Path: ', pkg$path, ', State: ', state))\n",
    "}\n",
    "\n",
    "lapply(examplePackages, clearPkg)"
   ]
  },
  {
   "cell_type": "markdown",
   "metadata": {},
   "source": [
    "## Environmental Variables"
   ]
  },
  {
   "cell_type": "markdown",
   "metadata": {},
   "source": [
    "`.libPaths` function lists the current paths available within R. In this example a path starting with `/data/` will be a shared folder, other paths (eg `/usr/` and `/opt/`) reside within the container. The shared folder is defined by the environmental variable `R_LIBS_USER` and the variable `R_LIBS_SITE_USER` gives the user writable site folder."
   ]
  },
  {
   "cell_type": "code",
   "execution_count": 2,
   "metadata": {},
   "outputs": [
    {
     "data": {
      "text/html": [
       "'/opt/R-libs/user'"
      ],
      "text/latex": [
       "'/opt/R-libs/user'"
      ],
      "text/markdown": [
       "'/opt/R-libs/user'"
      ],
      "text/plain": [
       "[1] \"/opt/R-libs/user\""
      ]
     },
     "metadata": {},
     "output_type": "display_data"
    }
   ],
   "source": [
    "Sys.getenv('R_LIBS_SITE_USER') # Current user writable container R path"
   ]
  },
  {
   "cell_type": "code",
   "execution_count": 3,
   "metadata": {},
   "outputs": [
    {
     "data": {
      "text/html": [
       "'/data/packages/R/x86_64-redhat-linux-gnu/3.4'"
      ],
      "text/latex": [
       "'/data/packages/R/x86\\_64-redhat-linux-gnu/3.4'"
      ],
      "text/markdown": [
       "'/data/packages/R/x86_64-redhat-linux-gnu/3.4'"
      ],
      "text/plain": [
       "[1] \"/data/packages/R/x86_64-redhat-linux-gnu/3.4\""
      ]
     },
     "metadata": {},
     "output_type": "display_data"
    }
   ],
   "source": [
    "Sys.getenv('R_LIBS_USER') # Current shared R library folder"
   ]
  },
  {
   "cell_type": "code",
   "execution_count": 4,
   "metadata": {},
   "outputs": [
    {
     "data": {
      "text/html": [
       "<ol class=list-inline>\n",
       "\t<li>'/data/packages/R/x86_64-redhat-linux-gnu/3.4'</li>\n",
       "\t<li>'/opt/R-libs/user'</li>\n",
       "\t<li>'/opt/R-libs/site'</li>\n",
       "\t<li>'/usr/lib64/R/library'</li>\n",
       "</ol>\n"
      ],
      "text/latex": [
       "\\begin{enumerate*}\n",
       "\\item '/data/packages/R/x86\\_64-redhat-linux-gnu/3.4'\n",
       "\\item '/opt/R-libs/user'\n",
       "\\item '/opt/R-libs/site'\n",
       "\\item '/usr/lib64/R/library'\n",
       "\\end{enumerate*}\n"
      ],
      "text/markdown": [
       "1. '/data/packages/R/x86_64-redhat-linux-gnu/3.4'\n",
       "2. '/opt/R-libs/user'\n",
       "3. '/opt/R-libs/site'\n",
       "4. '/usr/lib64/R/library'\n",
       "\n",
       "\n"
      ],
      "text/plain": [
       "[1] \"/data/packages/R/x86_64-redhat-linux-gnu/3.4\"\n",
       "[2] \"/opt/R-libs/user\"                            \n",
       "[3] \"/opt/R-libs/site\"                            \n",
       "[4] \"/usr/lib64/R/library\"                        "
      ]
     },
     "metadata": {},
     "output_type": "display_data"
    }
   ],
   "source": [
    ".libPaths() # Should include both paths give above"
   ]
  },
  {
   "cell_type": "markdown",
   "metadata": {},
   "source": [
    "## Install within the container"
   ]
  },
  {
   "cell_type": "code",
   "execution_count": 5,
   "metadata": {},
   "outputs": [
    {
     "data": {
      "text/html": [],
      "text/latex": [],
      "text/markdown": [],
      "text/plain": [
       "character(0)"
      ]
     },
     "metadata": {},
     "output_type": "display_data"
    }
   ],
   "source": [
    "find.package('fortunes', quiet = TRUE) # Expected to return nothing if package is not installed"
   ]
  },
  {
   "cell_type": "code",
   "execution_count": 6,
   "metadata": {
    "collapsed": true
   },
   "outputs": [],
   "source": [
    "install.packages('fortunes', lib = Sys.getenv('R_LIBS_SITE_USER'))"
   ]
  },
  {
   "cell_type": "code",
   "execution_count": 7,
   "metadata": {},
   "outputs": [
    {
     "data": {
      "text/html": [
       "'/opt/R-libs/user/fortunes'"
      ],
      "text/latex": [
       "'/opt/R-libs/user/fortunes'"
      ],
      "text/markdown": [
       "'/opt/R-libs/user/fortunes'"
      ],
      "text/plain": [
       "[1] \"/opt/R-libs/user/fortunes\""
      ]
     },
     "metadata": {},
     "output_type": "display_data"
    }
   ],
   "source": [
    "find.package('fortunes', quiet = TRUE) # Expected to return the install path to the user writable container folder"
   ]
  },
  {
   "cell_type": "code",
   "execution_count": 8,
   "metadata": {
    "collapsed": true
   },
   "outputs": [],
   "source": [
    "remove.packages('fortunes', lib='/opt/R-libs/user')"
   ]
  },
  {
   "cell_type": "markdown",
   "metadata": {},
   "source": [
    "## Install in shared library"
   ]
  },
  {
   "cell_type": "code",
   "execution_count": 9,
   "metadata": {},
   "outputs": [
    {
     "data": {
      "text/html": [],
      "text/latex": [],
      "text/markdown": [],
      "text/plain": [
       "character(0)"
      ]
     },
     "metadata": {},
     "output_type": "display_data"
    }
   ],
   "source": [
    "find.package('fortunes', quiet = TRUE) # Expected to return nothing if package is not installed"
   ]
  },
  {
   "cell_type": "code",
   "execution_count": 10,
   "metadata": {},
   "outputs": [
    {
     "name": "stderr",
     "output_type": "stream",
     "text": [
      "Installing package into '/data/packages/R/x86_64-redhat-linux-gnu/3.4'\n",
      "(as 'lib' is unspecified)\n"
     ]
    }
   ],
   "source": [
    "install.packages('fortunes') # Share location is the default install path"
   ]
  },
  {
   "cell_type": "code",
   "execution_count": 11,
   "metadata": {},
   "outputs": [
    {
     "data": {
      "text/html": [
       "'/data/packages/R/x86_64-redhat-linux-gnu/3.4/fortunes'"
      ],
      "text/latex": [
       "'/data/packages/R/x86\\_64-redhat-linux-gnu/3.4/fortunes'"
      ],
      "text/markdown": [
       "'/data/packages/R/x86_64-redhat-linux-gnu/3.4/fortunes'"
      ],
      "text/plain": [
       "[1] \"/data/packages/R/x86_64-redhat-linux-gnu/3.4/fortunes\""
      ]
     },
     "metadata": {},
     "output_type": "display_data"
    }
   ],
   "source": [
    "find.package('fortunes', quiet = TRUE) # Expected to return the install path to the shared folder"
   ]
  },
  {
   "cell_type": "code",
   "execution_count": 12,
   "metadata": {},
   "outputs": [
    {
     "name": "stderr",
     "output_type": "stream",
     "text": [
      "Removing package from '/data/packages/R/x86_64-redhat-linux-gnu/3.4'\n",
      "(as 'lib' is unspecified)\n"
     ]
    }
   ],
   "source": [
    "remove.packages('fortunes')"
   ]
  },
  {
   "cell_type": "code",
   "execution_count": null,
   "metadata": {
    "collapsed": true
   },
   "outputs": [],
   "source": []
  }
 ],
 "metadata": {
  "kernelspec": {
   "display_name": "R",
   "language": "R",
   "name": "r-default"
  },
  "language_info": {
   "codemirror_mode": "r",
   "file_extension": ".r",
   "mimetype": "text/x-r-source",
   "name": "R",
   "pygments_lexer": "r",
   "version": "3.4.1"
  }
 },
 "nbformat": 4,
 "nbformat_minor": 2
}
