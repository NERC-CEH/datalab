{
 "cells": [
  {
   "cell_type": "markdown",
   "metadata": {},
   "source": [
    "## Create project folder"
   ]
  },
  {
   "cell_type": "code",
   "execution_count": 1,
   "metadata": {},
   "outputs": [
    {
     "name": "stderr",
     "output_type": "stream",
     "text": [
      "Initializing packrat project in directory:\n",
      "- \"/data/example-project\"\n"
     ]
    },
    {
     "name": "stdout",
     "output_type": "stream",
     "text": [
      "\n",
      "Adding these packages to packrat:\n",
      "            _        \n",
      "    packrat   0.4.8-1\n",
      "\n"
     ]
    },
    {
     "name": "stderr",
     "output_type": "stream",
     "text": [
      "Fetching sources for packrat (0.4.8-1) ... OK (CRAN current)\n",
      "Snapshot written to '/data/example-project/packrat/packrat.lock'\n",
      "Installing packrat (0.4.8-1) ... \n",
      "\tOK (built source)\n",
      "Initialization complete!\n"
     ]
    }
   ],
   "source": [
    "dir.create('/data/example-project', showWarnings = FALSE)\n",
    "setwd('/data/example-project')\n",
    "packrat::init()"
   ]
  },
  {
   "cell_type": "markdown",
   "metadata": {},
   "source": [
    "## Open exisiting project"
   ]
  },
  {
   "cell_type": "code",
   "execution_count": 2,
   "metadata": {},
   "outputs": [],
   "source": [
    "setwd('/data/example-project')\n",
    "packrat::on()"
   ]
  },
  {
   "cell_type": "markdown",
   "metadata": {},
   "source": [
    "## Install package"
   ]
  },
  {
   "cell_type": "code",
   "execution_count": 3,
   "metadata": {},
   "outputs": [
    {
     "data": {
      "text/html": [
       "<ol class=list-inline>\n",
       "\t<li>'/data/example-project/packrat/lib/x86_64-redhat-linux-gnu/3.4.1'</li>\n",
       "\t<li>'/data/example-project/packrat/lib-ext'</li>\n",
       "\t<li>'/data/example-project/packrat/lib-R'</li>\n",
       "</ol>\n"
      ],
      "text/latex": [
       "\\begin{enumerate*}\n",
       "\\item '/data/example-project/packrat/lib/x86\\_64-redhat-linux-gnu/3.4.1'\n",
       "\\item '/data/example-project/packrat/lib-ext'\n",
       "\\item '/data/example-project/packrat/lib-R'\n",
       "\\end{enumerate*}\n"
      ],
      "text/markdown": [
       "1. '/data/example-project/packrat/lib/x86_64-redhat-linux-gnu/3.4.1'\n",
       "2. '/data/example-project/packrat/lib-ext'\n",
       "3. '/data/example-project/packrat/lib-R'\n",
       "\n",
       "\n"
      ],
      "text/plain": [
       "[1] \"/data/example-project/packrat/lib/x86_64-redhat-linux-gnu/3.4.1\"\n",
       "[2] \"/data/example-project/packrat/lib-ext\"                          \n",
       "[3] \"/data/example-project/packrat/lib-R\"                            "
      ]
     },
     "metadata": {},
     "output_type": "display_data"
    }
   ],
   "source": [
    ".libPaths() # Should only container folders within the example folder"
   ]
  },
  {
   "cell_type": "code",
   "execution_count": 4,
   "metadata": {},
   "outputs": [
    {
     "data": {
      "text/html": [],
      "text/latex": [],
      "text/markdown": [],
      "text/plain": [
       "character(0)"
      ]
     },
     "metadata": {},
     "output_type": "display_data"
    }
   ],
   "source": [
    "find.package('fortunes', quiet = TRUE) # Expected to return nothing if package is not installed"
   ]
  },
  {
   "cell_type": "code",
   "execution_count": 5,
   "metadata": {},
   "outputs": [
    {
     "name": "stderr",
     "output_type": "stream",
     "text": [
      "Installing package into '/data/example-project/packrat/lib/x86_64-redhat-linux-gnu/3.4.1'\n",
      "(as 'lib' is unspecified)\n"
     ]
    }
   ],
   "source": [
    "install.packages('fortunes')"
   ]
  },
  {
   "cell_type": "code",
   "execution_count": 6,
   "metadata": {},
   "outputs": [
    {
     "data": {
      "text/html": [
       "'/data/example-project/packrat/lib/x86_64-redhat-linux-gnu/3.4.1/fortunes'"
      ],
      "text/latex": [
       "'/data/example-project/packrat/lib/x86\\_64-redhat-linux-gnu/3.4.1/fortunes'"
      ],
      "text/markdown": [
       "'/data/example-project/packrat/lib/x86_64-redhat-linux-gnu/3.4.1/fortunes'"
      ],
      "text/plain": [
       "[1] \"/data/example-project/packrat/lib/x86_64-redhat-linux-gnu/3.4.1/fortunes\""
      ]
     },
     "metadata": {},
     "output_type": "display_data"
    }
   ],
   "source": [
    "find.package('fortunes') # should be a sub-folder of the './packrat/lib' wihtin the project"
   ]
  },
  {
   "cell_type": "markdown",
   "metadata": {},
   "source": [
    "## Update snapshot"
   ]
  },
  {
   "cell_type": "code",
   "execution_count": 7,
   "metadata": {},
   "outputs": [
    {
     "name": "stdout",
     "output_type": "stream",
     "text": [
      "\n",
      "Adding these packages to packrat:\n",
      "             _      \n",
      "    fortunes   1.5-4\n",
      "\n"
     ]
    },
    {
     "name": "stderr",
     "output_type": "stream",
     "text": [
      "Fetching sources for fortunes (1.5-4) ... OK (CRAN current)\n",
      "Snapshot written to '/data/example-project/packrat/packrat.lock'\n"
     ]
    }
   ],
   "source": [
    "packrat::snapshot() # Add fortune to the packrat snapshot"
   ]
  },
  {
   "cell_type": "markdown",
   "metadata": {},
   "source": [
    "## Restore a library"
   ]
  },
  {
   "cell_type": "code",
   "execution_count": 8,
   "metadata": {},
   "outputs": [],
   "source": [
    "unlink(paste0(.libPaths()[1], '/fortunes'), recursive = TRUE) # Delete fortunes lib folder"
   ]
  },
  {
   "cell_type": "code",
   "execution_count": 9,
   "metadata": {},
   "outputs": [
    {
     "data": {
      "text/html": [],
      "text/latex": [],
      "text/markdown": [],
      "text/plain": [
       "character(0)"
      ]
     },
     "metadata": {},
     "output_type": "display_data"
    }
   ],
   "source": [
    "find.package('fortunes', quiet = TRUE) # Package is missing"
   ]
  },
  {
   "cell_type": "code",
   "execution_count": 10,
   "metadata": {},
   "outputs": [
    {
     "name": "stderr",
     "output_type": "stream",
     "text": [
      "Installing fortunes (1.5-4) ... \n",
      "\tOK (built source)\n"
     ]
    }
   ],
   "source": [
    "packrat::restore() # Restores the missing package"
   ]
  },
  {
   "cell_type": "code",
   "execution_count": 11,
   "metadata": {},
   "outputs": [
    {
     "data": {
      "text/html": [
       "'/data/example-project/packrat/lib/x86_64-redhat-linux-gnu/3.4.1/fortunes'"
      ],
      "text/latex": [
       "'/data/example-project/packrat/lib/x86\\_64-redhat-linux-gnu/3.4.1/fortunes'"
      ],
      "text/markdown": [
       "'/data/example-project/packrat/lib/x86_64-redhat-linux-gnu/3.4.1/fortunes'"
      ],
      "text/plain": [
       "[1] \"/data/example-project/packrat/lib/x86_64-redhat-linux-gnu/3.4.1/fortunes\""
      ]
     },
     "metadata": {},
     "output_type": "display_data"
    }
   ],
   "source": [
    "find.package('fortunes', quiet = TRUE)"
   ]
  },
  {
   "cell_type": "markdown",
   "metadata": {},
   "source": [
    "## Install package on Spark cluster using packrat"
   ]
  },
  {
   "cell_type": "code",
   "execution_count": 12,
   "metadata": {},
   "outputs": [
    {
     "name": "stderr",
     "output_type": "stream",
     "text": [
      "\n",
      "Attaching package: 'SparkR'\n",
      "\n",
      "The following objects are masked from 'package:stats':\n",
      "\n",
      "    cov, filter, lag, na.omit, predict, sd, var, window\n",
      "\n",
      "The following objects are masked from 'package:base':\n",
      "\n",
      "    as.data.frame, colnames, colnames<-, drop, endsWith, intersect,\n",
      "    rank, rbind, sample, startsWith, subset, summary, transform, union\n",
      "\n"
     ]
    }
   ],
   "source": [
    "# Spark preamble\n",
    "library(SparkR, lib.loc=file.path(Sys.getenv('SPARK_HOME'), 'R', 'lib'))"
   ]
  },
  {
   "cell_type": "code",
   "execution_count": 13,
   "metadata": {
    "collapsed": true
   },
   "outputs": [],
   "source": [
    "sparkFunct <- function(idx) {\n",
    "    # Open project\n",
    "    setwd('/data/example-project')\n",
    "    packrat::on(clean.search.path = FALSE)\n",
    "    # Install if needed\n",
    "    packrat::restore()\n",
    "    # Run code on cluster\n",
    "    library(fortunes)\n",
    "    return(fortune())\n",
    "}"
   ]
  },
  {
   "cell_type": "code",
   "execution_count": 14,
   "metadata": {},
   "outputs": [
    {
     "name": "stderr",
     "output_type": "stream",
     "text": [
      "Spark package found in SPARK_HOME: /opt/spark\n"
     ]
    },
    {
     "name": "stdout",
     "output_type": "stream",
     "text": [
      "Launching java with spark-submit command /opt/spark/bin/spark-submit   sparkr-shell /tmp/RtmpNREJfD/backend_port5fb28a91f92 \n"
     ]
    },
    {
     "data": {
      "text/plain": [
       "Java ref type org.apache.spark.sql.SparkSession id 1 "
      ]
     },
     "metadata": {},
     "output_type": "display_data"
    }
   ],
   "source": [
    "# Create Spark context\n",
    "sparkR.session(master=Sys.getenv('MASTER'))\n",
    "# Run function on cluster\n",
    "output <- spark.lapply(seq(4), sparkFunct)\n",
    "# Delete Spark context\n",
    "sparkR.session.stop()"
   ]
  },
  {
   "cell_type": "code",
   "execution_count": 15,
   "metadata": {},
   "outputs": [
    {
     "data": {
      "text/html": [
       "<ol>\n",
       "\t<li>'Douglas Bates'</li>\n",
       "\t<li>'John W. Tukey'</li>\n",
       "\t<li>'Duncan Temple Lang'</li>\n",
       "\t<li>'Dirk Eddelbuettel'</li>\n",
       "</ol>\n"
      ],
      "text/latex": [
       "\\begin{enumerate}\n",
       "\\item 'Douglas Bates'\n",
       "\\item 'John W. Tukey'\n",
       "\\item 'Duncan Temple Lang'\n",
       "\\item 'Dirk Eddelbuettel'\n",
       "\\end{enumerate}\n"
      ],
      "text/markdown": [
       "1. 'Douglas Bates'\n",
       "2. 'John W. Tukey'\n",
       "3. 'Duncan Temple Lang'\n",
       "4. 'Dirk Eddelbuettel'\n",
       "\n",
       "\n"
      ],
      "text/plain": [
       "[[1]]\n",
       "[1] \"Douglas Bates\"\n",
       "\n",
       "[[2]]\n",
       "[1] \"John W. Tukey\"\n",
       "\n",
       "[[3]]\n",
       "[1] \"Duncan Temple Lang\"\n",
       "\n",
       "[[4]]\n",
       "[1] \"Dirk Eddelbuettel\"\n"
      ]
     },
     "metadata": {},
     "output_type": "display_data"
    }
   ],
   "source": [
    "lapply(output, function(item) { item$author })"
   ]
  },
  {
   "cell_type": "markdown",
   "metadata": {},
   "source": [
    "## Remove example project"
   ]
  },
  {
   "cell_type": "code",
   "execution_count": 16,
   "metadata": {
    "collapsed": true
   },
   "outputs": [],
   "source": [
    "setwd('~')\n",
    "unlink('/data/example-project', recursive = TRUE)"
   ]
  },
  {
   "cell_type": "code",
   "execution_count": null,
   "metadata": {
    "collapsed": true
   },
   "outputs": [],
   "source": []
  }
 ],
 "metadata": {
  "kernelspec": {
   "display_name": "R",
   "language": "R",
   "name": "r-default"
  },
  "language_info": {
   "codemirror_mode": "r",
   "file_extension": ".r",
   "mimetype": "text/x-r-source",
   "name": "R",
   "pygments_lexer": "r",
   "version": "3.4.1"
  }
 },
 "nbformat": 4,
 "nbformat_minor": 2
}
