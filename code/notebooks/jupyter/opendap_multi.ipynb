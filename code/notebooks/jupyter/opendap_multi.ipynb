{
 "cells": [
  {
   "cell_type": "code",
   "execution_count": 1,
   "metadata": {},
   "outputs": [
    {
     "name": "stdout",
     "output_type": "stream",
     "text": [
      "Fetching package metadata ...........\n",
      "Solving package specifications: .\n",
      "\n",
      "# All requested packages already installed.\n",
      "# packages in environment at /opt/conda:\n",
      "#\n",
      "basemap                   1.1.0                    py36_2    conda-forge\n",
      "basemap-data-hires        1.1.0                         0    conda-forge\n",
      "matplotlib                2.1.0                    py36_0    conda-forge\n",
      "netcdf4                   1.3.0                    py36_0    conda-forge\n",
      "numpy                     1.13.3          py36_blas_openblas_200  [blas_openblas]  conda-forge\n",
      "scipy                     0.19.1          py36_blas_openblas_202  [blas_openblas]  conda-forge\n"
     ]
    }
   ],
   "source": [
    "!conda install scipy netcdf4 numpy matplotlib basemap basemap-data-hires --yes"
   ]
  },
  {
   "cell_type": "code",
   "execution_count": 2,
   "metadata": {},
   "outputs": [],
   "source": [
    "%matplotlib inline"
   ]
  },
  {
   "cell_type": "code",
   "execution_count": 3,
   "metadata": {
    "collapsed": true
   },
   "outputs": [],
   "source": [
    "from netCDF4 import MFDataset, MFTime, num2date\n",
    "import numpy as np\n",
    "import matplotlib.pyplot as plt"
   ]
  },
  {
   "cell_type": "code",
   "execution_count": 4,
   "metadata": {
    "collapsed": true
   },
   "outputs": [],
   "source": [
    "base = \"http://data.ceda.ac.uk/neodc/casix/seawifs_plankton/data/monthly/PSC_monthly_{0}.nc\""
   ]
  },
  {
   "cell_type": "code",
   "execution_count": 5,
   "metadata": {
    "collapsed": true
   },
   "outputs": [],
   "source": [
    "urls = [ base.format(yr) for yr in range(1998, 2007, 1)]"
   ]
  },
  {
   "cell_type": "code",
   "execution_count": 6,
   "metadata": {
    "collapsed": true
   },
   "outputs": [],
   "source": [
    "rootgrp = MFDataset(urls, aggdim = 'time')"
   ]
  },
  {
   "cell_type": "code",
   "execution_count": 7,
   "metadata": {
    "collapsed": true
   },
   "outputs": [],
   "source": [
    "MFtime = MFTime(rootgrp.variables['time'])\n",
    "time = num2date(MFtime[:], 'days since 1998-01-01')"
   ]
  },
  {
   "cell_type": "code",
   "execution_count": 8,
   "metadata": {
    "collapsed": true
   },
   "outputs": [],
   "source": [
    "lats = rootgrp['latitude'][:]\n",
    "lons = rootgrp['longitude'][:]\n",
    "lat_bnds, lon_bnds = [55.5, 57], [-3.5, 0]\n",
    "lat_inds = np.where((lats > lat_bnds[0]) & (lats < lat_bnds[1]))[0]\n",
    "lon_inds = np.where((lons > lon_bnds[0]) & (lons < lon_bnds[1]))[0]"
   ]
  },
  {
   "cell_type": "code",
   "execution_count": 9,
   "metadata": {
    "collapsed": true
   },
   "outputs": [],
   "source": [
    "plankton = rootgrp.variables['phytoplankton_size_class']\n",
    "roi = plankton[:, lat_inds, lon_inds]"
   ]
  },
  {
   "cell_type": "code",
   "execution_count": 10,
   "metadata": {
    "collapsed": true
   },
   "outputs": [],
   "source": [
    "roi_mean = np.mean(roi, (1,2))\n",
    "roi_sum = np.sum(roi, (1,2))"
   ]
  },
  {
   "cell_type": "code",
   "execution_count": 11,
   "metadata": {},
   "outputs": [
    {
     "data": {
      "text/plain": [
       "[<matplotlib.lines.Line2D at 0x7f9be7861978>]"
      ]
     },
     "execution_count": 11,
     "metadata": {},
     "output_type": "execute_result"
    },
    {
     "data": {
      "image/png": "[encoded data removed]",
      "text/plain": [
       "<matplotlib.figure.Figure at 0x7f9be7884160>"
      ]
     },
     "metadata": {},
     "output_type": "display_data"
    }
   ],
   "source": [
    "fig = plt.figure(figsize=(8, 8), dpi= 100)\n",
    "plt.plot_date(time, roi_sum)"
   ]
  },
  {
   "cell_type": "code",
   "execution_count": null,
   "metadata": {
    "collapsed": true
   },
   "outputs": [],
   "source": []
  }
 ],
 "metadata": {
  "kernelspec": {
   "display_name": "Python 3",
   "language": "python",
   "name": "python3"
  },
  "language_info": {
   "codemirror_mode": {
    "name": "ipython",
    "version": 3
   },
   "file_extension": ".py",
   "mimetype": "text/x-python",
   "name": "python",
   "nbconvert_exporter": "python",
   "pygments_lexer": "ipython3",
   "version": "3.6.2"
  }
 },
 "nbformat": 4,
 "nbformat_minor": 2
}
