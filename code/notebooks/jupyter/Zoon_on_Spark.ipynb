{
 "cells": [
  {
   "cell_type": "markdown",
   "metadata": {},
   "source": [
    "### Zoon on Spark - Caveats\n",
    "`zoon::workflow` downloads ~170 MB of data when called. Best practice for spark cluster is to use data stored locally (accessible via `/data`). Variables passed to `zoon::workflow` need to be globally scoped, this practice is likely to cause issues when paralleling runs. For this example, the required variables are set in the global environment (using `<<-` rather than `<-`), this may cause issue with the Spark workers."
   ]
  },
  {
   "cell_type": "code",
   "execution_count": null,
   "metadata": {
    "collapsed": true
   },
   "outputs": [],
   "source": [
    "# Careful loading the entire zoon library with the SparkR kernel, it will mask some SparkR functions.\n",
    "# library('zoon')\n",
    "raster::plot(raster::stack('/data/zoon/data/LCM_raster.tif'))"
   ]
  },
  {
   "cell_type": "code",
   "execution_count": null,
   "metadata": {
    "collapsed": true
   },
   "outputs": [],
   "source": [
    "dir.create('/data/zoon/maps', showWarnings = FALSE)\n",
    "dir.create('/data/zoon/rasters', showWarnings = FALSE)"
   ]
  },
  {
   "cell_type": "code",
   "execution_count": null,
   "metadata": {
    "collapsed": true
   },
   "outputs": [],
   "source": [
    "species_data <- list.files(path = '/data/zoon/data/species_data', full.names = TRUE)"
   ]
  },
  {
   "cell_type": "code",
   "execution_count": null,
   "metadata": {
    "collapsed": true
   },
   "outputs": [],
   "source": [
    "zoonModel <- function(current_path){\n",
    "    start.time <- Sys.time()\n",
    "    library(zoon) # entire library loaded in worker\n",
    "    # zoon::workflow variables have to be globally scoped\n",
    "    LCM_raster <<- stack('/data/zoon/data/LCM_raster.tif')\n",
    "    base_filename <<- gsub('.csv$', '', basename(current_path))\n",
    "    species_path <<- current_path\n",
    "    dataset_extent <<- c(-9.576638, 3.715762, 49.68241, 61.66173)\n",
    "    w1 <- workflow(occurrence = LocalOccurrenceData(species_path),\n",
    "                   covariate = Chain(LocalRaster(LCM_raster),\n",
    "                                     Bioclim(extent = dataset_extent,\n",
    "                                             layers = c(2,4,5,12,16,17),\n",
    "                                             resolution = 2.5)),\n",
    "                   process = Chain(Background(1000), Crossvalidate),\n",
    "                   model = LogisticRegression,\n",
    "                   output = PrintMap(dir = '/data/zoon/maps', filename =  base_filename))\n",
    "    writeRaster(Output(w1), format = 'GTiff', filename = file.path('/data/zoon/rasters', base_filename))\n",
    "    end.time <- Sys.time()\n",
    "    return(end.time - start.time)\n",
    "}"
   ]
  },
  {
   "cell_type": "code",
   "execution_count": null,
   "metadata": {
    "collapsed": true
   },
   "outputs": [],
   "source": [
    "out <- spark.lapply(species_data[1:2], zoonModel)\n",
    "sparkR.session.stop() # close sessuion once finished"
   ]
  },
  {
   "cell_type": "code",
   "execution_count": null,
   "metadata": {
    "collapsed": true
   },
   "outputs": [],
   "source": [
    "out"
   ]
  },
  {
   "cell_type": "code",
   "execution_count": null,
   "metadata": {
    "collapsed": true
   },
   "outputs": [],
   "source": []
  }
 ],
 "metadata": {
  "kernelspec": {
   "display_name": "R (SparkR)",
   "language": "R",
   "name": "r-spark"
  },
  "language_info": {
   "codemirror_mode": "r",
   "file_extension": ".r",
   "mimetype": "text/x-r-source",
   "name": "R",
   "pygments_lexer": "r",
   "version": "3.4.1"
  }
 },
 "nbformat": 4,
 "nbformat_minor": 2
}
