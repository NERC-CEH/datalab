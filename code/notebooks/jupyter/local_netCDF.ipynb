{
 "cells": [
  {
   "cell_type": "code",
   "execution_count": 1,
   "metadata": {
    "collapsed": true
   },
   "outputs": [],
   "source": [
    "# !conda install numpy netcdf4 --yes"
   ]
  },
  {
   "cell_type": "code",
   "execution_count": 2,
   "metadata": {
    "collapsed": true
   },
   "outputs": [],
   "source": [
    "from netCDF4 import Dataset\n",
    "import numpy as np"
   ]
  },
  {
   "cell_type": "code",
   "execution_count": 3,
   "metadata": {
    "collapsed": true
   },
   "outputs": [],
   "source": [
    "rois = {\n",
    "    'liverpool': { 'longitude': [-3.34, -3.33], 'latitude': [53.49, 53.55] },\n",
    "    'southKnock': { 'longitude': [1.57, 1.59], 'latitude': [51.5, 51.6] },\n",
    "    'scillyIsles': { 'longitude': [-6.59, -6.58], 'latitude': [49.8, 49.9] },\n",
    "    'tyneTess': { 'longitude': [-0.751, -0.748], 'latitude': [54.84, 54.95] },\n",
    "    'westHebrides': { 'longitude': [-8.0, -7.9], 'latitude': [57.2, 57.3] },\n",
    "    'westPembroke': { 'longitude': [-5.9, -5.8], 'latitude': [51.8, 51.9] },\n",
    "#     'sevenstones': { 'longitude': [-6.083377], 'latitude': [50.08327] },\n",
    "    'moray': { 'longitude': [-3.4, -3.3], 'latitude': [57.98, 58.0] },\n",
    "    'poole': { 'longitude': [-1.8, -1.7], 'latitude': [50.6, 50.7] },\n",
    "    'scarweather': { 'longitude': [-4.0, -3.9], 'latitude': [51.4, 51.45] },\n",
    "    'k1': { 'longitude': [-12.45, -12.40], 'latitude': [48.70, 48.75] },\n",
    "    'k2': { 'longitude': [-13.58, -13.5], 'latitude': [50.95, 51.0] },\n",
    "    'k4': { 'longitude': [-12.6, -12.55], 'latitude': [55.4, 55.45] },\n",
    "    'k5': { 'longitude': [-11.45, -11.40], 'latitude': [59.05, 59.1] },\n",
    "    'k7': { 'longitude': [-4.2, -4.15], 'latitude': [60.45, 60.5] },\n",
    "}"
   ]
  },
  {
   "cell_type": "code",
   "execution_count": 4,
   "metadata": {
    "collapsed": true
   },
   "outputs": [],
   "source": [
    "parameter = 'hs'"
   ]
  },
  {
   "cell_type": "code",
   "execution_count": 5,
   "metadata": {
    "collapsed": true
   },
   "outputs": [],
   "source": [
    "rootgrp = Dataset('/data/rises-waves/197901.nc', 'r')"
   ]
  },
  {
   "cell_type": "code",
   "execution_count": 6,
   "metadata": {
    "collapsed": true
   },
   "outputs": [],
   "source": [
    "def findRegionOfInterest(boundry, lons, lats, pararmeterData):\n",
    "    [longEast, longWest] = boundry['longitude']\n",
    "    [latNorth, latSouth] = boundry['latitude']\n",
    "    lonInds = np.where((lons > longEast) & (lons < longWest))[0]\n",
    "    latInds = np.where((lats > latNorth) & (lats < latSouth))[0]\n",
    "    return pararmeterData[:, latInds, lonInds]\n",
    "\n",
    "def aggregateMeanMax(boundry, parameter, ncFile):\n",
    "    lons = ncFile.variables['longitude'][:]\n",
    "    lats = ncFile.variables['latitude'][:]\n",
    "    pararmeterData = ncFile.variables[parameter]\n",
    "    roi = findRegionOfInterest(boundry, lons, lats, pararmeterData)\n",
    "    return  { 'mean': np.mean(roi), 'max': np.max(roi) }"
   ]
  },
  {
   "cell_type": "code",
   "execution_count": 9,
   "metadata": {
    "collapsed": true
   },
   "outputs": [],
   "source": [
    "roisIndices = { key: aggregateMeanMax(rois[key], parameter, rootgrp) for key in rois }"
   ]
  },
  {
   "cell_type": "code",
   "execution_count": 10,
   "metadata": {},
   "outputs": [
    {
     "data": {
      "text/plain": [
       "{'k1': {'max': 6.4480004, 'mean': 3.7892017},\n",
       " 'k2': {'max': 6.2740002, 'mean': 3.9343386},\n",
       " 'k4': {'max': 7.8120003, 'mean': 4.3749061},\n",
       " 'k5': {'max': 8.7400007, 'mean': 4.3900676},\n",
       " 'k7': {'max': 6.5080004, 'mean': 3.684124},\n",
       " 'liverpool': {'max': 2.72, 'mean': 1.093371},\n",
       " 'moray': {'max': 5.0200005, 'mean': 1.3265377},\n",
       " 'poole': {'max': 2.8140001, 'mean': 0.78045702},\n",
       " 'scarweather': {'max': 3.8200002, 'mean': 1.2102528},\n",
       " 'scillyIsles': {'max': 6.5060005, 'mean': 2.7138443},\n",
       " 'southKnock': {'max': 2.73, 'mean': 1.1132877},\n",
       " 'tyneTess': {'max': 6.1980004, 'mean': 1.8725647},\n",
       " 'westHebrides': {'max': 6.2080002, 'mean': 3.5776322},\n",
       " 'westPembroke': {'max': 4.0160003, 'mean': 1.7520295}}"
      ]
     },
     "execution_count": 10,
     "metadata": {},
     "output_type": "execute_result"
    }
   ],
   "source": [
    "roisIndices"
   ]
  },
  {
   "cell_type": "code",
   "execution_count": null,
   "metadata": {
    "collapsed": true
   },
   "outputs": [],
   "source": []
  }
 ],
 "metadata": {
  "kernelspec": {
   "display_name": "Python 3",
   "language": "python",
   "name": "python3"
  },
  "language_info": {
   "codemirror_mode": {
    "name": "ipython",
    "version": 3
   },
   "file_extension": ".py",
   "mimetype": "text/x-python",
   "name": "python",
   "nbconvert_exporter": "python",
   "pygments_lexer": "ipython3",
   "version": "3.6.2"
  }
 },
 "nbformat": 4,
 "nbformat_minor": 2
}
